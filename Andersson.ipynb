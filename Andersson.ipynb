{
 "cells": [
  {
   "cell_type": "markdown",
   "metadata": {
    "slideshow": {
     "slide_type": "slide"
    }
   },
   "source": []
  },
  {
   "cell_type": "markdown",
   "metadata": {},
   "source": [
    "## Problema 1"
   ]
  },
  {
   "cell_type": "markdown",
   "metadata": {
    "slideshow": {
     "slide_type": "slide"
    }
   },
   "source": [
    "### Pruebas QEDF\n",
    "\n",
    "Las pruebas QEDF (Quadratic Empirical Distribution Function) se basan en la idea de cuantificar una distancia(en $L^2$) entre la distribución empírica obtenida con la muestra y la distribución $F_0(x)$ propuesta bajo la hipótesis nula.\n",
    "\n",
    "\\begin{eqnarray}\n",
    "H_0 : F_X(x,\\theta) &=& F_0(x,\\theta)\\\\\n",
    "H_1 : F_X(x,\\theta) &=& F_0(x,\\theta)\n",
    "\\end{eqnarray}\n",
    "\n",
    "Donde el parámetro de $F_0(x,\\theta)$ en este caso la supondremos conocido, de tal modo que la $F_0$ es una distribución completamente conocida.(F_m(x)-F_0(x))\n",
    "La idea de las estadística QEDF es cuantificar la discrepancia al cuadrado y luego integrar\n",
    "respecto a la distribución propuesta bajo $H_0$. \n",
    "\\textbf{Definición} (QEDF Statistic). Definimos la estad´ıstica QEDF para probar bondad de ajuste\n",
    "como:\n",
    "\\begin{equation}\n",
    "Q_m(x)=m\\int_{-\\infty}^\\infty(F_m(x)-F_0(x))^2 \\psi(x)dF_0(x)\n",
    "\\end{equation}\n",
    "Donde $F_m(x)$ es la distribución empírica obtenida con la muestra y $F_0(x)$ la distribución bajo $H_0$ . Por otro lado $\\psi(x)$ es una función ponderadora que nos ayuda a darle peso a la distancia en $L^2$ en cada x."
   ]
  },
  {
   "cell_type": "markdown",
   "metadata": {},
   "source": [
    "### Prueba Anderson Darling \n",
    "Se obtiene haciendo que la función de ponderación tome la siguiente forma:\n",
    "\\begin{eqnarray}\n",
    "    \\psi(x)=\\dfrac{1}{F_0(x)(1-F_0(x))}\n",
    "\\end{eqnarray}\n",
    "\n",
    "Con la ponderación las colas de la distribución tienen mas peso, la prueba es capaz de detectar diferencia entre las colas de la distribución más fácilmente.\n",
    "Esta prueba es una de las mas potente para detectar normalidad.\n",
    "Por lo anterior el estadístico de prueba queda como:\n",
    "\\begin{eqnarray}\n",
    "A_m^2=m\\int_{-\\infty}^\\infty \\dfrac{(F_m(x)-F_m(x))^2}{F_m(x)(1-F_0(x))}dF_0(x)\n",
    "\\end{eqnarray}\n",
    "Haciendo el cambio de variable $u=F_x(x)$ el estadístico anterior nos queda como:\n",
    "\\begin{eqnarray}\n",
    "A_m^2=m\\int_{-\\infty}^\\infty \\dfrac{(F_m(u)-u)^2}{F_m(u)(1-u)}du\n",
    "\\end{eqnarray}\n",
    "La integral anterior tiene solución analitica y es:\n",
    "\\begin{eqnarray}\n",
    "A_m^2=-m-\\dfrac{1}{m}\\sum_{i=1}^{m}(2i-1)\\log(u_i)+\\log(1-u_{m+1-i})\n",
    "\\end{eqnarray}\n"
   ]
  },
  {
   "cell_type": "code",
   "execution_count": 164,
   "metadata": {
    "collapsed": false,
    "slideshow": {
     "slide_type": "subslide"
    }
   },
   "outputs": [],
   "source": [
    "ADTestNormal<-function(n,m,mu,s2){\n",
    "    sum=0\n",
    "    A=rep(0,n)\n",
    "    for (j in 1:n){\n",
    "    norm<-pnorm(sort(rnorm(m,mu,s2)),mu, s2)    \n",
    "    i=rev(c(1:m))     \n",
    "    sum=(1/m)*sum((2*rev(i)-1)*(log(norm)+log(-norm[i]+1)))\n",
    "    sum=-m-sum  \n",
    "    A[j]=sum            \n",
    "}\n",
    "    return(sort(A))\n",
    "}"
   ]
  },
  {
   "cell_type": "code",
   "execution_count": 167,
   "metadata": {
    "collapsed": true,
    "slideshow": {
     "slide_type": "fragment"
    }
   },
   "outputs": [],
   "source": [
    "n<-100000\n",
    "m<-50\n",
    "mu<-2.34\n",
    "s2<-1.27\n",
    "h=ADTestNormal(n,m,mu,s2)"
   ]
  },
  {
   "cell_type": "code",
   "execution_count": 168,
   "metadata": {
    "collapsed": false,
    "slideshow": {
     "slide_type": "slide"
    }
   },
   "outputs": [
    {
     "data": {
      "image/png": "[encoded data removed]",
      "text/plain": [
       "Plot with title \"Distribución Anderson,n=50\""
      ]
     },
     "metadata": {},
     "output_type": "display_data"
    }
   ],
   "source": [
    "library(repr)\n",
    "options(repr.plot.width=9, repr.plot.height=6)\n",
    "hist(h,freq=FALSE, breaks=300, main=\"Distribución Anderson,n=50\",\n",
    "     col=\"cornflowerblue\",xlim = c(0, 9.0))\n",
    "lines(density(h),col=\"red\")"
   ]
  },
  {
   "cell_type": "code",
   "execution_count": 169,
   "metadata": {
    "collapsed": false
   },
   "outputs": [
    {
     "data": {
      "image/png": "[encoded data removed]",
      "text/plain": [
       "Plot with title \"Distribución Anderson,n=30\""
      ]
     },
     "metadata": {},
     "output_type": "display_data"
    }
   ],
   "source": [
    "h1=ADTestNormal(100000,30,mu,s2)\n",
    "options(repr.plot.width=9, repr.plot.height=6)\n",
    "hist(h1,freq=FALSE, breaks=300, main=\"Distribución Anderson,n=30\",\n",
    "     col=\"cornflowerblue\",xlim = c(0, 9.0))\n",
    "lines(density(h),col=\"red\")"
   ]
  },
  {
   "cell_type": "code",
   "execution_count": 170,
   "metadata": {
    "collapsed": false
   },
   "outputs": [
    {
     "name": "stdout",
     "output_type": "stream",
     "text": [
      "[1] \"Cuantiles de la distribución Anderson-Darling m=50\"\n",
      "  75%   90%   95%   99% \n",
      "1.252 1.941 2.509 3.877 \n"
     ]
    }
   ],
   "source": [
    "print(\"Cuantiles de la distribución Anderson-Darling m=50\")\n",
    "print(round(quantile(h1,c(0.75,0.9,0.95,0.99)),3))\n",
    "Q95<-round(quantile(h1,c(0.75,0.9,0.95,0.99)),3)[3]"
   ]
  },
  {
   "cell_type": "code",
   "execution_count": 171,
   "metadata": {
    "collapsed": true
   },
   "outputs": [],
   "source": [
    "#funcion de discrepancia\n",
    "disc<-function(m,mu,s2,data){\n",
    "    sum=0\n",
    "    norm<-sort(pnorm(data,mu,s2))    \n",
    "    i=rev(c(1:m))     \n",
    "    sum=(1/m)*sum((2*rev(i)-1)*(log(norm)+log(-norm[i]+1)))\n",
    "    sum=-m-sum  \n",
    "    return(sum)\n",
    "}"
   ]
  },
  {
   "cell_type": "code",
   "execution_count": 172,
   "metadata": {
    "collapsed": false
   },
   "outputs": [
    {
     "name": "stdout",
     "output_type": "stream",
     "text": [
      "[1] \"La discrapancia es de:\"\n"
     ]
    },
    {
     "data": {
      "text/html": [
       "2.27346472332037"
      ],
      "text/latex": [
       "2.27346472332037"
      ],
      "text/markdown": [
       "2.27346472332037"
      ],
      "text/plain": [
       "[1] 2.273465"
      ]
     },
     "metadata": {},
     "output_type": "display_data"
    }
   ],
   "source": [
    "data<-c( 1.662, 1.624, 1.508, 2.571, 2.032, 1.743, 1.475, 1.329, 1.951,\n",
    "3.171, 0.350, 1.249, 3.483, 1.974, 2.165)\n",
    "m1<-length(data)\n",
    "print(\"La discrapancia es de:\")\n",
    "disc(m1,mu,s2,data)"
   ]
  },
  {
   "cell_type": "markdown",
   "metadata": {},
   "source": [
    "Como el valor cae dentro de la región de aceptación para el cuantil de $0.95$ entonces podemos decir que no se rechaza la\n",
    "hipotesis nula con un nivel de confianza de $0.95$"
   ]
  },
  {
   "cell_type": "markdown",
   "metadata": {},
   "source": [
    "Ahora, supongan que no conocen los valores de $(\\mu,\\sigma)$, así que la hipótesis que pueden probar es\n",
    "$$H_0 : \\text{Los datos provienen de una población normal}$$\n",
    "Aquí la idea es estimar los parametros de la distribución con la muestra generada, sabemos que un buen estimado de $\\mu$ es $\\bar{x}$ y para $\\sigma^2$ es $s^2$"
   ]
  },
  {
   "cell_type": "code",
   "execution_count": 178,
   "metadata": {
    "collapsed": true
   },
   "outputs": [],
   "source": [
    "ADTestNormal1<-function(n,m){\n",
    "    sum=0\n",
    "    A=rep(0,n)\n",
    "    for (j in 1:n){\n",
    "    x=rnorm(m,0,1)\n",
    "    mu<-mean(x)\n",
    "    s2<-var(x)*(m/(m-1))\n",
    "    z<-(x-mu)/sqrt(s2)\n",
    "    norm<-pnorm(sort(z),0, 1)    \n",
    "    i=rev(c(1:m))     \n",
    "    sum=(1/m)*sum((2*rev(i)-1)*(log(norm)+log(-norm[i]+1)))\n",
    "    sum=-m-sum \n",
    "    A[j]=sum            \n",
    "}\n",
    "    return(sort(A))\n",
    "}"
   ]
  },
  {
   "cell_type": "code",
   "execution_count": 179,
   "metadata": {
    "collapsed": false
   },
   "outputs": [
    {
     "data": {
      "image/png": "[encoded data removed]",
      "text/plain": [
       "Plot with title \"Distribución Anderson,n=30\""
      ]
     },
     "metadata": {},
     "output_type": "display_data"
    }
   ],
   "source": [
    "h2=ADTestNormal1(100000,50)\n",
    "options(repr.plot.width=9, repr.plot.height=6)\n",
    "hist(h2,freq=FALSE, breaks=300, main=\"Distribución Anderson,n=30\",\n",
    "     col=\"cornflowerblue\",xlim = c(0, 2.0))\n",
    "lines(density(h2),col=\"red\")"
   ]
  },
  {
   "cell_type": "code",
   "execution_count": 181,
   "metadata": {
    "collapsed": false
   },
   "outputs": [
    {
     "name": "stdout",
     "output_type": "stream",
     "text": [
      "[1] \"Cuantiles de la distribución Anderson-Darling m=50\"\n",
      "  75%   90%   95%   99% \n",
      "0.459 0.616 0.734 1.006 \n"
     ]
    }
   ],
   "source": [
    "print(\"Cuantiles de la distribución Anderson-Darling m=50\")\n",
    "print(round(quantile(h2,c(0.75,0.9,0.95,0.99)),3))"
   ]
  },
  {
   "cell_type": "code",
   "execution_count": 182,
   "metadata": {
    "collapsed": false
   },
   "outputs": [
    {
     "name": "stdout",
     "output_type": "stream",
     "text": [
      "[1] \"La discrapancia es de:\"\n"
     ]
    },
    {
     "data": {
      "text/html": [
       "0.438935621548911"
      ],
      "text/latex": [
       "0.438935621548911"
      ],
      "text/markdown": [
       "0.438935621548911"
      ],
      "text/plain": [
       "[1] 0.4389356"
      ]
     },
     "metadata": {},
     "output_type": "display_data"
    }
   ],
   "source": [
    "data1<-c(6.466,7.528,6.55682,6.3396,6.38785,7.60078,5.72222,5)\n",
    "m2<-length(data1)\n",
    "s<-var(data1)\n",
    "med<-mean(data1)\n",
    "print(\"La discrapancia es de:\")\n",
    "disc(m2,med,s,data1)"
   ]
  },
  {
   "cell_type": "markdown",
   "metadata": {},
   "source": [
    "Por tanto no se rechaza $H_0$ con nivel de confianza de $0.75$."
   ]
  },
  {
   "cell_type": "markdown",
   "metadata": {},
   "source": [
    "Se generan muestras de una Cauchy y se transforman como si fueran normales. Usando el cuantil 0.95 que encontraron anteriormente, \n",
    "para decidir si rechazan la hipótesis se calcula la tasa de rechazo."
   ]
  },
  {
   "cell_type": "code",
   "execution_count": 189,
   "metadata": {
    "collapsed": true
   },
   "outputs": [],
   "source": [
    "cau<-function(n,m,loc,sca){\n",
    "    sum=0\n",
    "    A=rep(0,n)\n",
    "    for (j in 1:n){\n",
    "    cau<-pnorm(sort(rcauchy(m,loc,sca)),mu, s2)    \n",
    "    i=rev(c(1:m))     \n",
    "    sum=(1/m)*sum((2*rev(i)-1)*(log(cau)+log(-cau[i]+1)))\n",
    "    sum=-m-sum  \n",
    "    A[j]=sum            \n",
    "}\n",
    "    return(sort(A))\n",
    "}"
   ]
  },
  {
   "cell_type": "code",
   "execution_count": 190,
   "metadata": {
    "collapsed": false
   },
   "outputs": [
    {
     "name": "stdout",
     "output_type": "stream",
     "text": [
      "[1] \"La tasa de rechazo es \"\n",
      "[1] 98.688\n"
     ]
    }
   ],
   "source": [
    "A<-cau(n,30,2.34,1.27)\n",
    "cont=(sum((A>=q95)*1)/n)*100\n",
    "print(\"La tasa de rechazo es \")\n",
    "print(cont)"
   ]
  },
  {
   "cell_type": "markdown",
   "metadata": {},
   "source": [
    "## Problema 2: Una moneda con memoria"
   ]
  },
  {
   "cell_type": "markdown",
   "metadata": {},
   "source": [
    "Supongamos que tenemos una moneda que se acuerda de lo que salió en el volado anterior. Específicamente, si $X_{n}$ denota el resultado de $n$-ésimo volado y denotamos como ``0'' al hecho de que aparezca águila, vamos a suponer que \n",
    "\\begin{equation}\n",
    "P[X_{n}=1|X_{n-1}=0]=\\theta \\mbox{ y } P[X_{n}=0|X_{n-1}=0]=\\mu, \\hspace{1cm}(1)\\nonumber\n",
    "\\end{equation}\n",
    "con $\\theta, \\mu \\in (0,1)$. ¿Cuál es la probabilidad de obtener un águila en un lanzamiento cualquiera, independientemente de lo que pasó en el volado anterior?"
   ]
  },
  {
   "cell_type": "markdown",
   "metadata": {},
   "source": [
    "Definimos entonces \n",
    "\\begin{equation*}\n",
    "X_{n}=\\mbox{El resultado del  $n$-ésimo volado}.\n",
    "\\end{equation*}\n",
    "Como estamos denotando a  \"0\" al hecho de que aparezca águila entonces al hecho de salga sol la denotamos como \"1\".\n",
    "De este modo, las variables aleatorias $X_{n}\\in \\{0,1\\}$ y esto para cada $n\\in N$.\\\\\n",
    "Por hipótesis tenemos una moneda que se acuerda de lo que salió en el volado anterior, lo que nos sugiere que podemos \n",
    "``interpretar'' a la sucesión $\\{X_{n}\\}_{n\\geq 1}$ como una cadena de Markov y con espacio de estados $S=\\{0, 1\\}$.\\\\\n",
    "Luego, calculemos la matriz de transición de esta cadena. Para esto, ocuparemos las probabilidades de transición dadas en la expresión anterior y también usaremos que la matriz de transición debe ser una matriz estocástica. Así que la matriz buscada es "
   ]
  },
  {
   "cell_type": "markdown",
   "metadata": {},
   "source": [
    "\\begin{equation}\n",
    "P=\\left(\\begin{matrix}\n",
    "1-\\theta&\\theta\\\\\n",
    "\\mu& 1-\\mu\n",
    "\\end{matrix}\\right). \\hspace{1cm}(2) \\nonumber\n",
    "\\end{equation}\n",
    "Para una cadena de Markov en general se sabe que podemos encontrar la distribución de cada variable $X_{n}$, $n\\in N\\setminus\\{0\\}$ si conocemos su matrix de transición y la distribución de $X_{0}$. Y se puede calcular como \n",
    "\\begin{equation}\n",
    "P[X_{n}=y]=\\sum_{x\\in S}P(X_{0}=x)p^{n}(x,y),   \\hspace{1cm}(3) \\nonumber\n",
    "\\end{equation}\n",
    "donde $S$ es el espacio de estado y $p^{n}(x,y)=P(X_{n}=y|X_{0}=x)$. Pero, la expresión enterior es equivalente a "
   ]
  },
  {
   "cell_type": "markdown",
   "metadata": {},
   "source": [
    "\n",
    "\\begin{equation}\n",
    "P[X_{n}=y]=({\\bf{\\pi_{0}}}\\hat{P}^{n})_{y}, \\hspace{1cm}(4)\\nonumber\n",
    "\\end{equation}\n",
    "dode ${\\bf{\\pi_{0}}}=[P(X_{0}=0), \\ldots,P(X_{0}=k)]$ (suponiendo que el espacio de estados es $S=\\{0, \\ldots, k\\}$) y $\\hat{P}$ es la matriz de transición de la cadena.\\\\\n",
    "Regresando a nuestro problema, usando que  ${\\bf{\\pi_{0}}}=[P(X_{0}=0), P(X_{0}=1)]$ y Ec(2), entonces de 4 se sigue que \n",
    "\\begin{equation}\n",
    "P(X_{n}=0)=\\left([P(X_{0}=0), P(X_{0}=1)]\\left(\\begin{matrix}\n",
    "1-\\theta&\\theta\\\\\n",
    "\\mu& 1-\\mu\n",
    "\\end{matrix}\\right)^{n}\\right)_{0}. \\hspace{1cm}(5)\n",
    "\\end{equation}\n",
    "Resolviendo la ecuación 5 se sigue que \n",
    "\\begin{equation}\n",
    "P(X_{n}=0)=\\frac{\\mu}{\\mu+\\theta}+(1-\\theta-\\mu)^{n}\\left(P(X_{0}=0)-\\frac{\\mu}{\\mu+\\theta}\\right).\\hspace{1cm}(6)\\nonumber\n",
    "\\end{equation}\n",
    "Análogamente se puede demostrar que \n"
   ]
  },
  {
   "cell_type": "markdown",
   "metadata": {},
   "source": [
    "\\begin{equation}\n",
    "P(X_{n}=1)=\\frac{\\theta}{\\mu+\\theta}+(1-\\theta-\\mu)^{n}\\left(P(X_{0}=1)-\\frac{\\theta}{\\mu+\\theta}\\right). \\hspace{1cm}(7)\n",
    "\\end{equation}\n",
    "\n",
    "Observemos que, para calcular tanto $P(X_{n}=0)$  como  $P(X_{n}=0)$  necesitamos conocer la distribución de $X_{0}$.\n",
    "Como $\\theta, \\mu \\in (0,1)$ entonces $\\lim_{n\\to \\infty}(1-\\theta-\\mu)^{n}=0$. Así que de Ec.(5) y Ec(6) se infiere que \n",
    "\\begin{equation}\n",
    "\\lim_{n\\to \\infty}P(X_{n}=0)=\\frac{\\mu}{\\mu+\\theta} \\mbox{ y } \\lim_{n\\to \\infty}P(X_{n}=1)=\\frac{\\theta}{\\mu+\\theta},\\hspace{1cm}(8)\\nonumber\n",
    "\\end{equation}\n",
    "y esto pasa independientemente de la distribución de $X_{0}$.\\\\\n",
    "De esta manera, si proponemos que ${\\bf{\\pi_{0}}}=(\\frac{\\mu}{\\mu+\\theta},\\frac{\\theta}{\\mu+\\theta})$ (qué es lo que nos sugiere la\n",
    "expresión 8 entonces en Ecs.(6 y 7) se sigue que, \n",
    "\\begin{eqnarray}\n",
    "P(X_{n}=0)&=&\\frac{\\mu}{\\mu+\\theta}+(1-\\theta-\\mu)^{n}(0)\\nonumber\\\\\n",
    "&=&\\frac{\\mu}{\\mu+\\theta} \\mbox{ y}\\\\\n",
    "P(X_{n}=1)&=&\\frac{\\theta}{\\mu+\\theta}+(1-\\theta-\\mu)^{n}0\\nonumber\\\\\n",
    "&=&\\frac{\\theta}{\\mu+\\theta}.\n",
    "\\end{eqnarray}\n",
    "Y las probabilidades $P(X_{n}=0)$ y $P(X_{n}=1)$ ya no dependen de la $n$.\\\\\n",
    "Si suponemos que $(\\mu, \\theta) = (0.42, 0.35)$, entonces $P(X_{n}=0)=\\frac{0.42}{0.42+0.35}=0.54$ y $P(X_{n}=1)=\\frac{0.35}{0.42+0.35}=0.459$, esto siempre y cuando si proponemos  ${\\bf{\\pi_{0}}}=(\\frac{\\mu}{\\mu+\\theta},\\frac{\\theta}{\\mu+\\theta})$.\\\\\n",
    "Ahora ya sabemos a que mas o menos debemos de llegar si resolvemos el problema numéricamente."
   ]
  },
  {
   "cell_type": "markdown",
   "metadata": {},
   "source": [
    "### Simulación"
   ]
  },
  {
   "cell_type": "code",
   "execution_count": 199,
   "metadata": {
    "collapsed": false
   },
   "outputs": [
    {
     "data": {
      "text/html": [
       "<table>\n",
       "<thead><tr><th></th><th scope=col>0</th><th scope=col>1</th></tr></thead>\n",
       "<tbody>\n",
       "\t<tr><th scope=row>0</th><td>0.65</td><td>0.35</td></tr>\n",
       "\t<tr><th scope=row>1</th><td>0.42</td><td>0.58</td></tr>\n",
       "</tbody>\n",
       "</table>\n"
      ],
      "text/latex": [
       "\\begin{tabular}{r|ll}\n",
       "  & 0 & 1\\\\\n",
       "\\hline\n",
       "\t0 & 0.65 & 0.35\\\\\n",
       "\t1 & 0.42 & 0.58\\\\\n",
       "\\end{tabular}\n"
      ],
      "text/markdown": [
       "\n",
       "| <!--/--> | 0 | 1 | \n",
       "|---|---|\n",
       "| 0 | 0.65 | 0.35 | \n",
       "| 1 | 0.42 | 0.58 | \n",
       "\n",
       "\n"
      ],
      "text/plain": [
       "  0    1   \n",
       "0 0.65 0.35\n",
       "1 0.42 0.58"
      ]
     },
     "metadata": {},
     "output_type": "display_data"
    }
   ],
   "source": [
    "estados <- c('0', '1')\n",
    "pi0 <- c(0.65,0.35) # distribucion inicial\n",
    "names(pi0) <- estados\n",
    "p<- rbind(c(0.65,0.35), c(.42, .58))\n",
    "dimnames(p) <- list(estados, estados)\n",
    "p"
   ]
  },
  {
   "cell_type": "code",
   "execution_count": 205,
   "metadata": {
    "collapsed": false
   },
   "outputs": [],
   "source": [
    "func.inic <- cumsum(pi0)\n",
    "func.act <- t(apply(p, 1, cumsum))"
   ]
  },
  {
   "cell_type": "code",
   "execution_count": 209,
   "metadata": {
    "collapsed": false
   },
   "outputs": [],
   "source": [
    "n <-6523\n",
    "U <- runif(n) \n",
    "X <- numeric(n) * NA \n",
    "j = 1; while(U[1] > func.inic[j]) j = j + 1;\n",
    "X[1] <- estados[j]\n",
    "for (i in 2:n) {\n",
    "j = 1; while(U[i] > func.act[X[i - 1], j]) j = j + 1;\n",
    "X[i] <- estados[j]\n",
    "}"
   ]
  },
  {
   "cell_type": "code",
   "execution_count": 218,
   "metadata": {
    "collapsed": false
   },
   "outputs": [
    {
     "data": {
      "image/png": "[encoded data removed]",
      "text/plain": [
       "plot without title"
      ]
     },
     "metadata": {},
     "output_type": "display_data"
    }
   ],
   "source": [
    "options(repr.plot.width=8, repr.plot.height=5)\n",
    "plot(X[1:100],type=\"b\",xlab=\"Lanzamientos\",ylab=\"Estados\")"
   ]
  },
  {
   "cell_type": "code",
   "execution_count": null,
   "metadata": {
    "collapsed": true
   },
   "outputs": [],
   "source": [
    "mu<-0.42\n",
    "theta<-0.35\n"
   ]
  }
 ],
 "metadata": {
  "kernelspec": {
   "display_name": "R",
   "language": "R",
   "name": "ir"
  },
  "language_info": {
   "codemirror_mode": "r",
   "file_extension": ".r",
   "mimetype": "text/x-r-source",
   "name": "R",
   "pygments_lexer": "r",
   "version": "3.3.2"
  }
 },
 "nbformat": 4,
 "nbformat_minor": 0
}
